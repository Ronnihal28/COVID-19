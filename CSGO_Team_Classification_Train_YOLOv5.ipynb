{
  "nbformat": 4,
  "nbformat_minor": 0,
  "metadata": {
    "colab": {
      "name": "CSGO-Team-Classification-Train-YOLOv5",
      "provenance": [],
      "collapsed_sections": [],
      "include_colab_link": true
    },
    "kernelspec": {
      "name": "python3",
      "display_name": "Python 3"
    },
    "accelerator": "GPU"
  },
  "cells": [
    {
      "cell_type": "markdown",
      "metadata": {
        "id": "view-in-github",
        "colab_type": "text"
      },
      "source": [
        "<a href=\"https://colab.research.google.com/github/Ronnihal28/COVID-19/blob/master/CSGO_Team_Classification_Train_YOLOv5.ipynb\" target=\"_parent\"><img src=\"https://colab.research.google.com/assets/colab-badge.svg\" alt=\"Open In Colab\"/></a>"
      ]
    },
    {
      "cell_type": "code",
      "metadata": {
        "colab": {
          "base_uri": "https://localhost:8080/"
        },
        "id": "Ie5uLDH4uzAp",
        "outputId": "cb055730-8e34-440a-c9ce-35f9145cf004"
      },
      "source": [
        "!git clone https://github.com/ultralytics/yolov5 \n",
        "%cd yolov5\n",
        "!git reset --hard 886f1c03d839575afecb059accf74296fad395b6"
      ],
      "execution_count": 1,
      "outputs": [
        {
          "output_type": "stream",
          "name": "stdout",
          "text": [
            "Cloning into 'yolov5'...\n",
            "remote: Enumerating objects: 12202, done.\u001b[K\n",
            "remote: Total 12202 (delta 0), reused 0 (delta 0), pack-reused 12202\u001b[K\n",
            "Receiving objects: 100% (12202/12202), 11.49 MiB | 20.58 MiB/s, done.\n",
            "Resolving deltas: 100% (8476/8476), done.\n",
            "/content/yolov5\n",
            "HEAD is now at 886f1c0 DDP after autoanchor reorder (#2421)\n"
          ]
        }
      ]
    },
    {
      "cell_type": "code",
      "metadata": {
        "id": "wbvMlHd_QwMG",
        "colab": {
          "base_uri": "https://localhost:8080/"
        },
        "outputId": "5b3d749f-efff-46d9-bc76-9f5002242152"
      },
      "source": [
        "!pip install -qr requirements.txt \n",
        "import torch\n",
        "\n",
        "from IPython.display import Image, clear_output  \n",
        "from utils.google_utils import gdrive_download  \n",
        "# clear_output()\n",
        "print('Setup complete. Using torch %s %s' % (torch.__version__, torch.cuda.get_device_properties(0) if torch.cuda.is_available() else 'CPU'))"
      ],
      "execution_count": 2,
      "outputs": [
        {
          "output_type": "stream",
          "name": "stdout",
          "text": [
            "\u001b[?25l\r\u001b[K     |▌                               | 10 kB 22.6 MB/s eta 0:00:01\r\u001b[K     |█                               | 20 kB 19.2 MB/s eta 0:00:01\r\u001b[K     |█▋                              | 30 kB 9.6 MB/s eta 0:00:01\r\u001b[K     |██▏                             | 40 kB 8.7 MB/s eta 0:00:01\r\u001b[K     |██▊                             | 51 kB 4.6 MB/s eta 0:00:01\r\u001b[K     |███▎                            | 61 kB 5.4 MB/s eta 0:00:01\r\u001b[K     |███▉                            | 71 kB 5.5 MB/s eta 0:00:01\r\u001b[K     |████▍                           | 81 kB 6.2 MB/s eta 0:00:01\r\u001b[K     |█████                           | 92 kB 6.6 MB/s eta 0:00:01\r\u001b[K     |█████▌                          | 102 kB 5.4 MB/s eta 0:00:01\r\u001b[K     |██████                          | 112 kB 5.4 MB/s eta 0:00:01\r\u001b[K     |██████▋                         | 122 kB 5.4 MB/s eta 0:00:01\r\u001b[K     |███████▏                        | 133 kB 5.4 MB/s eta 0:00:01\r\u001b[K     |███████▊                        | 143 kB 5.4 MB/s eta 0:00:01\r\u001b[K     |████████▎                       | 153 kB 5.4 MB/s eta 0:00:01\r\u001b[K     |████████▉                       | 163 kB 5.4 MB/s eta 0:00:01\r\u001b[K     |█████████▍                      | 174 kB 5.4 MB/s eta 0:00:01\r\u001b[K     |██████████                      | 184 kB 5.4 MB/s eta 0:00:01\r\u001b[K     |██████████▍                     | 194 kB 5.4 MB/s eta 0:00:01\r\u001b[K     |███████████                     | 204 kB 5.4 MB/s eta 0:00:01\r\u001b[K     |███████████▌                    | 215 kB 5.4 MB/s eta 0:00:01\r\u001b[K     |████████████                    | 225 kB 5.4 MB/s eta 0:00:01\r\u001b[K     |████████████▋                   | 235 kB 5.4 MB/s eta 0:00:01\r\u001b[K     |█████████████▏                  | 245 kB 5.4 MB/s eta 0:00:01\r\u001b[K     |█████████████▊                  | 256 kB 5.4 MB/s eta 0:00:01\r\u001b[K     |██████████████▎                 | 266 kB 5.4 MB/s eta 0:00:01\r\u001b[K     |██████████████▉                 | 276 kB 5.4 MB/s eta 0:00:01\r\u001b[K     |███████████████▍                | 286 kB 5.4 MB/s eta 0:00:01\r\u001b[K     |████████████████                | 296 kB 5.4 MB/s eta 0:00:01\r\u001b[K     |████████████████▌               | 307 kB 5.4 MB/s eta 0:00:01\r\u001b[K     |█████████████████               | 317 kB 5.4 MB/s eta 0:00:01\r\u001b[K     |█████████████████▋              | 327 kB 5.4 MB/s eta 0:00:01\r\u001b[K     |██████████████████▏             | 337 kB 5.4 MB/s eta 0:00:01\r\u001b[K     |██████████████████▊             | 348 kB 5.4 MB/s eta 0:00:01\r\u001b[K     |███████████████████▎            | 358 kB 5.4 MB/s eta 0:00:01\r\u001b[K     |███████████████████▉            | 368 kB 5.4 MB/s eta 0:00:01\r\u001b[K     |████████████████████▍           | 378 kB 5.4 MB/s eta 0:00:01\r\u001b[K     |████████████████████▉           | 389 kB 5.4 MB/s eta 0:00:01\r\u001b[K     |█████████████████████▍          | 399 kB 5.4 MB/s eta 0:00:01\r\u001b[K     |██████████████████████          | 409 kB 5.4 MB/s eta 0:00:01\r\u001b[K     |██████████████████████▌         | 419 kB 5.4 MB/s eta 0:00:01\r\u001b[K     |███████████████████████         | 430 kB 5.4 MB/s eta 0:00:01\r\u001b[K     |███████████████████████▋        | 440 kB 5.4 MB/s eta 0:00:01\r\u001b[K     |████████████████████████▏       | 450 kB 5.4 MB/s eta 0:00:01\r\u001b[K     |████████████████████████▊       | 460 kB 5.4 MB/s eta 0:00:01\r\u001b[K     |█████████████████████████▎      | 471 kB 5.4 MB/s eta 0:00:01\r\u001b[K     |█████████████████████████▉      | 481 kB 5.4 MB/s eta 0:00:01\r\u001b[K     |██████████████████████████▍     | 491 kB 5.4 MB/s eta 0:00:01\r\u001b[K     |███████████████████████████     | 501 kB 5.4 MB/s eta 0:00:01\r\u001b[K     |███████████████████████████▌    | 512 kB 5.4 MB/s eta 0:00:01\r\u001b[K     |████████████████████████████    | 522 kB 5.4 MB/s eta 0:00:01\r\u001b[K     |████████████████████████████▋   | 532 kB 5.4 MB/s eta 0:00:01\r\u001b[K     |█████████████████████████████▏  | 542 kB 5.4 MB/s eta 0:00:01\r\u001b[K     |█████████████████████████████▊  | 552 kB 5.4 MB/s eta 0:00:01\r\u001b[K     |██████████████████████████████▎ | 563 kB 5.4 MB/s eta 0:00:01\r\u001b[K     |██████████████████████████████▊ | 573 kB 5.4 MB/s eta 0:00:01\r\u001b[K     |███████████████████████████████▎| 583 kB 5.4 MB/s eta 0:00:01\r\u001b[K     |███████████████████████████████▉| 593 kB 5.4 MB/s eta 0:00:01\r\u001b[K     |████████████████████████████████| 596 kB 5.4 MB/s \n",
            "\u001b[?25hSetup complete. Using torch 1.10.0+cu111 _CudaDeviceProperties(name='Tesla K80', major=3, minor=7, total_memory=11441MB, multi_processor_count=13)\n"
          ]
        }
      ]
    },
    {
      "cell_type": "code",
      "metadata": {
        "id": "Ug_PhK1oqwQA",
        "colab": {
          "base_uri": "https://localhost:8080/",
          "height": 1000
        },
        "outputId": "b28975c3-89f7-4f9b-cbb7-168abbe23382"
      },
      "source": [
        "%cd /content/yolov5\n",
        "!pip install roboflow\n",
        "\n",
        "from roboflow import Roboflow\n",
        "rf = Roboflow(api_key=\"vTSDndzPgjZ6tXCDxKDk\")\n",
        "project = rf.workspace(\"new-workspace-rp0z0\").project(\"csgo-train-yolo-v5\")\n",
        "dataset = project.version(5).download(\"yolov5\")"
      ],
      "execution_count": 3,
      "outputs": [
        {
          "output_type": "stream",
          "name": "stdout",
          "text": [
            "/content/yolov5\n",
            "Collecting roboflow\n",
            "  Downloading roboflow-0.2.2-py3-none-any.whl (24 kB)\n",
            "Requirement already satisfied: matplotlib in /usr/local/lib/python3.7/dist-packages (from roboflow) (3.2.2)\n",
            "Requirement already satisfied: requests in /usr/local/lib/python3.7/dist-packages (from roboflow) (2.23.0)\n",
            "Requirement already satisfied: PyYAML>=5.3.1 in /usr/local/lib/python3.7/dist-packages (from roboflow) (6.0)\n",
            "Requirement already satisfied: idna==2.10 in /usr/local/lib/python3.7/dist-packages (from roboflow) (2.10)\n",
            "Requirement already satisfied: Pillow>=7.1.2 in /usr/local/lib/python3.7/dist-packages (from roboflow) (7.1.2)\n",
            "Requirement already satisfied: python-dateutil in /usr/local/lib/python3.7/dist-packages (from roboflow) (2.8.2)\n",
            "Collecting urllib3==1.26.6\n",
            "  Downloading urllib3-1.26.6-py2.py3-none-any.whl (138 kB)\n",
            "\u001b[K     |████████████████████████████████| 138 kB 7.5 MB/s \n",
            "\u001b[?25hCollecting chardet==4.0.0\n",
            "  Downloading chardet-4.0.0-py2.py3-none-any.whl (178 kB)\n",
            "\u001b[K     |████████████████████████████████| 178 kB 44.3 MB/s \n",
            "\u001b[?25hRequirement already satisfied: numpy>=1.18.5 in /usr/local/lib/python3.7/dist-packages (from roboflow) (1.21.5)\n",
            "Collecting python-dotenv\n",
            "  Downloading python_dotenv-0.20.0-py3-none-any.whl (17 kB)\n",
            "Collecting kiwisolver==1.3.1\n",
            "  Downloading kiwisolver-1.3.1-cp37-cp37m-manylinux1_x86_64.whl (1.1 MB)\n",
            "\u001b[K     |████████████████████████████████| 1.1 MB 44.2 MB/s \n",
            "\u001b[?25hCollecting pyparsing==2.4.7\n",
            "  Downloading pyparsing-2.4.7-py2.py3-none-any.whl (67 kB)\n",
            "\u001b[K     |████████████████████████████████| 67 kB 5.6 MB/s \n",
            "\u001b[?25hRequirement already satisfied: six in /usr/local/lib/python3.7/dist-packages (from roboflow) (1.15.0)\n",
            "Collecting certifi==2021.5.30\n",
            "  Downloading certifi-2021.5.30-py2.py3-none-any.whl (145 kB)\n",
            "\u001b[K     |████████████████████████████████| 145 kB 37.0 MB/s \n",
            "\u001b[?25hRequirement already satisfied: tqdm>=4.41.0 in /usr/local/lib/python3.7/dist-packages (from roboflow) (4.63.0)\n",
            "Collecting wget\n",
            "  Downloading wget-3.2.zip (10 kB)\n",
            "Requirement already satisfied: opencv-python>=4.1.2 in /usr/local/lib/python3.7/dist-packages (from roboflow) (4.1.2.30)\n",
            "Collecting cycler==0.10.0\n",
            "  Downloading cycler-0.10.0-py2.py3-none-any.whl (6.5 kB)\n",
            "Collecting requests\n",
            "  Downloading requests-2.27.1-py2.py3-none-any.whl (63 kB)\n",
            "\u001b[K     |████████████████████████████████| 63 kB 1.6 MB/s \n",
            "\u001b[?25hRequirement already satisfied: charset-normalizer~=2.0.0 in /usr/local/lib/python3.7/dist-packages (from requests->roboflow) (2.0.12)\n",
            "Building wheels for collected packages: wget\n",
            "  Building wheel for wget (setup.py) ... \u001b[?25l\u001b[?25hdone\n",
            "  Created wheel for wget: filename=wget-3.2-py3-none-any.whl size=9675 sha256=44ac7e34f829669a2bae83b43ef8027160774935154f5f6ec9ddeac4003381f7\n",
            "  Stored in directory: /root/.cache/pip/wheels/a1/b6/7c/0e63e34eb06634181c63adacca38b79ff8f35c37e3c13e3c02\n",
            "Successfully built wget\n",
            "Installing collected packages: urllib3, pyparsing, kiwisolver, cycler, certifi, wget, requests, python-dotenv, chardet, roboflow\n",
            "  Attempting uninstall: urllib3\n",
            "    Found existing installation: urllib3 1.24.3\n",
            "    Uninstalling urllib3-1.24.3:\n",
            "      Successfully uninstalled urllib3-1.24.3\n",
            "  Attempting uninstall: pyparsing\n",
            "    Found existing installation: pyparsing 3.0.7\n",
            "    Uninstalling pyparsing-3.0.7:\n",
            "      Successfully uninstalled pyparsing-3.0.7\n",
            "  Attempting uninstall: kiwisolver\n",
            "    Found existing installation: kiwisolver 1.4.0\n",
            "    Uninstalling kiwisolver-1.4.0:\n",
            "      Successfully uninstalled kiwisolver-1.4.0\n",
            "  Attempting uninstall: cycler\n",
            "    Found existing installation: cycler 0.11.0\n",
            "    Uninstalling cycler-0.11.0:\n",
            "      Successfully uninstalled cycler-0.11.0\n",
            "  Attempting uninstall: certifi\n",
            "    Found existing installation: certifi 2021.10.8\n",
            "    Uninstalling certifi-2021.10.8:\n",
            "      Successfully uninstalled certifi-2021.10.8\n",
            "  Attempting uninstall: requests\n",
            "    Found existing installation: requests 2.23.0\n",
            "    Uninstalling requests-2.23.0:\n",
            "      Successfully uninstalled requests-2.23.0\n",
            "  Attempting uninstall: chardet\n",
            "    Found existing installation: chardet 3.0.4\n",
            "    Uninstalling chardet-3.0.4:\n",
            "      Successfully uninstalled chardet-3.0.4\n",
            "\u001b[31mERROR: pip's dependency resolver does not currently take into account all the packages that are installed. This behaviour is the source of the following dependency conflicts.\n",
            "google-colab 1.0.0 requires requests~=2.23.0, but you have requests 2.27.1 which is incompatible.\n",
            "datascience 0.10.6 requires folium==0.2.1, but you have folium 0.8.3 which is incompatible.\n",
            "albumentations 0.1.12 requires imgaug<0.2.7,>=0.2.5, but you have imgaug 0.2.9 which is incompatible.\u001b[0m\n",
            "Successfully installed certifi-2021.5.30 chardet-4.0.0 cycler-0.10.0 kiwisolver-1.3.1 pyparsing-2.4.7 python-dotenv-0.20.0 requests-2.27.1 roboflow-0.2.2 urllib3-1.26.6 wget-3.2\n"
          ]
        },
        {
          "output_type": "display_data",
          "data": {
            "application/vnd.colab-display-data+json": {
              "pip_warning": {
                "packages": [
                  "certifi",
                  "chardet",
                  "cycler",
                  "kiwisolver",
                  "pyparsing",
                  "requests",
                  "urllib3"
                ]
              }
            }
          },
          "metadata": {}
        },
        {
          "output_type": "stream",
          "name": "stdout",
          "text": [
            "loading Roboflow workspace...\n",
            "loading Roboflow project...\n",
            "Downloading Dataset Version Zip in CSGO-TRAIN-YOLO-V5-5 to yolov5pytorch: 100% [310438123 / 310438123] bytes\n"
          ]
        },
        {
          "output_type": "stream",
          "name": "stderr",
          "text": [
            "Extracting Dataset Version Zip to CSGO-TRAIN-YOLO-V5-5 in yolov5pytorch:: 100%|██████████| 12826/12826 [00:16<00:00, 788.94it/s]\n"
          ]
        }
      ]
    },
    {
      "cell_type": "code",
      "metadata": {
        "id": "ZZ3DmmGQztJj",
        "colab": {
          "base_uri": "https://localhost:8080/"
        },
        "outputId": "cf0fe27d-7720-4c56-e810-7fea024d44ab"
      },
      "source": [
        "%cat /content/yolov5/CSGO-TRAIN-YOLO-V5-5/data.yaml"
      ],
      "execution_count": 4,
      "outputs": [
        {
          "output_type": "stream",
          "name": "stdout",
          "text": [
            "names:\n",
            "- CT\n",
            "- T\n",
            "nc: 2\n",
            "train: CSGO-TRAIN-YOLO-V5-5/train/images\n",
            "val: CSGO-TRAIN-YOLO-V5-5/valid/images\n"
          ]
        }
      ]
    },
    {
      "cell_type": "code",
      "metadata": {
        "id": "dOPn9wjOAwwK"
      },
      "source": [
        "\n",
        "import yaml\n",
        "with open(dataset.location + \"/data.yaml\", 'r') as stream:\n",
        "    num_classes = str(yaml.safe_load(stream)['nc'])"
      ],
      "execution_count": 5,
      "outputs": []
    },
    {
      "cell_type": "code",
      "metadata": {
        "id": "t14hhyqdmw6O"
      },
      "source": [
        "\n",
        "from IPython.core.magic import register_line_cell_magic\n",
        "\n",
        "@register_line_cell_magic\n",
        "def writetemplate(line, cell):\n",
        "    with open(line, 'w') as f:\n",
        "        f.write(cell.format(**globals()))"
      ],
      "execution_count": 7,
      "outputs": []
    },
    {
      "cell_type": "code",
      "metadata": {
        "id": "uDxebz13RdRA"
      },
      "source": [
        "%%writetemplate /content/yolov5/models/custom_yolov5s.yaml\n",
        "\n",
        "# parameters\n",
        "nc: 2  # number of classes\n",
        "depth_multiple: 0.33  # model depth multiple\n",
        "width_multiple: 0.50  # layer channel multiple\n",
        "\n",
        "# anchors\n",
        "anchors:\n",
        "  - [10,13, 16,30, 33,23]  # P3/8\n",
        "  - [30,61, 62,45, 59,119]  # P4/16\n",
        "  - [116,90, 156,198, 373,326]  # P5/32\n",
        "\n",
        "# YOLOv5 backbone\n",
        "backbone:\n",
        "  # [from, number, module, args]\n",
        "  [[-1, 1, Focus, [64, 3]],  # 0-P1/2\n",
        "   [-1, 1, Conv, [128, 3, 2]],  # 1-P2/4\n",
        "   [-1, 3, BottleneckCSP, [128]],\n",
        "   [-1, 1, Conv, [256, 3, 2]],  # 3-P3/8\n",
        "   [-1, 9, BottleneckCSP, [256]],\n",
        "   [-1, 1, Conv, [512, 3, 2]],  # 5-P4/16\n",
        "   [-1, 9, BottleneckCSP, [512]],\n",
        "   [-1, 1, Conv, [1024, 3, 2]],  # 7-P5/32\n",
        "   [-1, 1, SPP, [1024, [5, 9, 13]]],\n",
        "   [-1, 3, BottleneckCSP, [1024, False]],  # 9\n",
        "  ]\n",
        "\n",
        "# YOLOv5 head\n",
        "head:\n",
        "  [[-1, 1, Conv, [512, 1, 1]],\n",
        "   [-1, 1, nn.Upsample, [None, 2, 'nearest']],\n",
        "   [[-1, 6], 1, Concat, [1]],  # cat backbone P4\n",
        "   [-1, 3, BottleneckCSP, [512, False]],  # 13\n",
        "\n",
        "   [-1, 1, Conv, [256, 1, 1]],\n",
        "   [-1, 1, nn.Upsample, [None, 2, 'nearest']],\n",
        "   [[-1, 4], 1, Concat, [1]],  # cat backbone P3\n",
        "   [-1, 3, BottleneckCSP, [256, False]],  # 17 (P3/8-small)\n",
        "\n",
        "   [-1, 1, Conv, [256, 3, 2]],\n",
        "   [[-1, 14], 1, Concat, [1]],  # cat head P4\n",
        "   [-1, 3, BottleneckCSP, [512, False]],  # 20 (P4/16-medium)\n",
        "\n",
        "   [-1, 1, Conv, [512, 3, 2]],\n",
        "   [[-1, 10], 1, Concat, [1]],  # cat head P5\n",
        "   [-1, 3, BottleneckCSP, [1024, False]],  # 23 (P5/32-large)\n",
        "\n",
        "   [[17, 20, 23], 1, Detect, [nc, anchors]],  # Detect(P3, P4, P5)\n",
        "  ]"
      ],
      "execution_count": 9,
      "outputs": []
    },
    {
      "cell_type": "code",
      "metadata": {
        "id": "1NcFxRcFdJ_O",
        "colab": {
          "base_uri": "https://localhost:8080/"
        },
        "outputId": "c07baa0a-b8ca-4d54-f428-6352f0598915"
      },
      "source": [
        "%%time\n",
        "%cd /content/yolov5/\n",
        "!python train.py --img 416 --batch 16 --epochs 30 --data {dataset.location}/data.yaml --cfg ./models/custom_yolov5s.yaml --weights '' --name yolov5s_results  --cache"
      ],
      "execution_count": null,
      "outputs": [
        {
          "output_type": "stream",
          "name": "stdout",
          "text": [
            "/content/yolov5\n",
            "\u001b[34m\u001b[1mgithub: \u001b[0m⚠️ WARNING: code is out of date by 933 commits. Use 'git pull' to update or 'git clone https://github.com/ultralytics/yolov5' to download latest.\n",
            "YOLOv5 v4.0-126-g886f1c0 torch 1.10.0+cu111 CUDA:0 (Tesla K80, 11441.1875MB)\n",
            "\n",
            "Namespace(adam=False, batch_size=16, bucket='', cache_images=True, cfg='./models/custom_yolov5s.yaml', data='/content/yolov5/CSGO-TRAIN-YOLO-V5-5/data.yaml', device='', entity=None, epochs=30, evolve=False, exist_ok=False, global_rank=-1, hyp='data/hyp.scratch.yaml', image_weights=False, img_size=[416, 416], linear_lr=False, local_rank=-1, log_artifacts=False, log_imgs=16, multi_scale=False, name='yolov5s_results', noautoanchor=False, nosave=False, notest=False, project='runs/train', quad=False, rect=False, resume=False, save_dir='runs/train/yolov5s_results', single_cls=False, sync_bn=False, total_batch_size=16, weights='', workers=8, world_size=1)\n",
            "\u001b[34m\u001b[1mwandb: \u001b[0mInstall Weights & Biases for YOLOv5 logging with 'pip install wandb' (recommended)\n",
            "Start Tensorboard with \"tensorboard --logdir runs/train\", view at http://localhost:6006/\n",
            "\u001b[34m\u001b[1mhyperparameters: \u001b[0mlr0=0.01, lrf=0.2, momentum=0.937, weight_decay=0.0005, warmup_epochs=3.0, warmup_momentum=0.8, warmup_bias_lr=0.1, box=0.05, cls=0.5, cls_pw=1.0, obj=1.0, obj_pw=1.0, iou_t=0.2, anchor_t=4.0, fl_gamma=0.0, hsv_h=0.015, hsv_s=0.7, hsv_v=0.4, degrees=0.0, translate=0.1, scale=0.5, shear=0.0, perspective=0.0, flipud=0.0, fliplr=0.5, mosaic=1.0, mixup=0.0\n",
            "\n",
            "                 from  n    params  module                                  arguments                     \n",
            "  0                -1  1      3520  models.common.Focus                     [3, 32, 3]                    \n",
            "  1                -1  1     18560  models.common.Conv                      [32, 64, 3, 2]                \n",
            "  2                -1  1     19904  models.common.BottleneckCSP             [64, 64, 1]                   \n",
            "  3                -1  1     73984  models.common.Conv                      [64, 128, 3, 2]               \n",
            "  4                -1  1    161152  models.common.BottleneckCSP             [128, 128, 3]                 \n",
            "  5                -1  1    295424  models.common.Conv                      [128, 256, 3, 2]              \n",
            "  6                -1  1    641792  models.common.BottleneckCSP             [256, 256, 3]                 \n",
            "  7                -1  1   1180672  models.common.Conv                      [256, 512, 3, 2]              \n",
            "  8                -1  1    656896  models.common.SPP                       [512, 512, [5, 9, 13]]        \n",
            "  9                -1  1   1248768  models.common.BottleneckCSP             [512, 512, 1, False]          \n",
            " 10                -1  1    131584  models.common.Conv                      [512, 256, 1, 1]              \n",
            " 11                -1  1         0  torch.nn.modules.upsampling.Upsample    [None, 2, 'nearest']          \n",
            " 12           [-1, 6]  1         0  models.common.Concat                    [1]                           \n",
            " 13                -1  1    378624  models.common.BottleneckCSP             [512, 256, 1, False]          \n",
            " 14                -1  1     33024  models.common.Conv                      [256, 128, 1, 1]              \n",
            " 15                -1  1         0  torch.nn.modules.upsampling.Upsample    [None, 2, 'nearest']          \n",
            " 16           [-1, 4]  1         0  models.common.Concat                    [1]                           \n",
            " 17                -1  1     95104  models.common.BottleneckCSP             [256, 128, 1, False]          \n",
            " 18                -1  1    147712  models.common.Conv                      [128, 128, 3, 2]              \n",
            " 19          [-1, 14]  1         0  models.common.Concat                    [1]                           \n",
            " 20                -1  1    313088  models.common.BottleneckCSP             [256, 256, 1, False]          \n",
            " 21                -1  1    590336  models.common.Conv                      [256, 256, 3, 2]              \n",
            " 22          [-1, 10]  1         0  models.common.Concat                    [1]                           \n",
            " 23                -1  1   1248768  models.common.BottleneckCSP             [512, 512, 1, False]          \n",
            " 24      [17, 20, 23]  1     18879  models.yolo.Detect                      [2, [[10, 13, 16, 30, 33, 23], [30, 61, 62, 45, 59, 119], [116, 90, 156, 198, 373, 326]], [128, 256, 512]]\n",
            "/usr/local/lib/python3.7/dist-packages/torch/functional.py:445: UserWarning: torch.meshgrid: in an upcoming release, it will be required to pass the indexing argument. (Triggered internally at  ../aten/src/ATen/native/TensorShape.cpp:2157.)\n",
            "  return _VF.meshgrid(tensors, **kwargs)  # type: ignore[attr-defined]\n",
            "Model Summary: 283 layers, 7257791 parameters, 7257791 gradients, 16.8 GFLOPS\n",
            "\n",
            "Scaled weight_decay = 0.0005\n",
            "Optimizer groups: 62 .bias, 70 conv.weight, 59 other\n",
            "\u001b[34m\u001b[1mtrain: \u001b[0mScanning 'CSGO-TRAIN-YOLO-V5-5/train/labels' for images and labels... 5939 found, 0 missing, 84 empty, 0 corrupted: 100% 5939/5939 [00:02<00:00, 2103.50it/s]\n",
            "\u001b[34m\u001b[1mtrain: \u001b[0mNew cache created: CSGO-TRAIN-YOLO-V5-5/train/labels.cache\n",
            "\u001b[34m\u001b[1mtrain: \u001b[0mCaching images (3.1GB): 100% 5939/5939 [00:37<00:00, 158.66it/s]\n",
            "\u001b[34m\u001b[1mval: \u001b[0mScanning 'CSGO-TRAIN-YOLO-V5-5/valid/labels' for images and labels... 431 found, 0 missing, 12 empty, 0 corrupted: 100% 431/431 [00:00<00:00, 680.32it/s]\n",
            "\u001b[34m\u001b[1mval: \u001b[0mNew cache created: CSGO-TRAIN-YOLO-V5-5/valid/labels.cache\n",
            "\u001b[34m\u001b[1mval: \u001b[0mCaching images (0.2GB): 100% 431/431 [00:03<00:00, 110.07it/s]\n",
            "Plotting labels... \n",
            "\n",
            "\u001b[34m\u001b[1mautoanchor: \u001b[0mAnalyzing anchors... anchors/target = 5.51, Best Possible Recall (BPR) = 1.0000\n",
            "Image sizes 416 train, 416 test\n",
            "Using 2 dataloader workers\n",
            "Logging results to runs/train/yolov5s_results\n",
            "Starting training for 30 epochs...\n",
            "\n",
            "     Epoch   gpu_mem       box       obj       cls     total   targets  img_size\n",
            "      0/29     1.79G   0.09592   0.01886   0.02628    0.1411         5       416: 100% 372/372 [02:49<00:00,  2.20it/s]\n",
            "               Class      Images     Targets           P           R      mAP@.5  mAP@.5:.95: 100% 14/14 [00:08<00:00,  1.62it/s]\n",
            "                 all         431         536     0.00096        0.23    0.000266    4.14e-05\n",
            "\n",
            "     Epoch   gpu_mem       box       obj       cls     total   targets  img_size\n",
            "      1/29     1.88G   0.08383   0.02009   0.02482    0.1287         3       416: 100% 372/372 [02:41<00:00,  2.30it/s]\n",
            "               Class      Images     Targets           P           R      mAP@.5  mAP@.5:.95: 100% 14/14 [00:07<00:00,  1.89it/s]\n",
            "                 all         431         536       0.528      0.0349      0.0104     0.00241\n",
            "\n",
            "     Epoch   gpu_mem       box       obj       cls     total   targets  img_size\n",
            "      2/29     1.88G   0.06925   0.01826   0.01752     0.105         2       416: 100% 372/372 [02:40<00:00,  2.32it/s]\n",
            "               Class      Images     Targets           P           R      mAP@.5  mAP@.5:.95: 100% 14/14 [00:07<00:00,  1.94it/s]\n",
            "                 all         431         536      0.0879       0.245      0.0274     0.00586\n",
            "\n",
            "     Epoch   gpu_mem       box       obj       cls     total   targets  img_size\n",
            "      3/29     1.88G   0.05957   0.01584   0.01201   0.08743         8       416: 100% 372/372 [02:40<00:00,  2.32it/s]\n",
            "               Class      Images     Targets           P           R      mAP@.5  mAP@.5:.95: 100% 14/14 [00:05<00:00,  2.53it/s]\n",
            "                 all         431         536       0.396       0.378        0.31      0.0841\n",
            "\n",
            "     Epoch   gpu_mem       box       obj       cls     total   targets  img_size\n",
            "      4/29     1.88G   0.05138   0.01385   0.00867    0.0739         7       416: 100% 372/372 [02:40<00:00,  2.32it/s]\n",
            "               Class      Images     Targets           P           R      mAP@.5  mAP@.5:.95: 100% 14/14 [00:05<00:00,  2.49it/s]\n",
            "                 all         431         536       0.572       0.524       0.489       0.169\n",
            "\n",
            "     Epoch   gpu_mem       box       obj       cls     total   targets  img_size\n",
            "      5/29     1.88G   0.04645   0.01261  0.007485   0.06654         5       416: 100% 372/372 [02:40<00:00,  2.32it/s]\n",
            "               Class      Images     Targets           P           R      mAP@.5  mAP@.5:.95: 100% 14/14 [00:05<00:00,  2.57it/s]\n",
            "                 all         431         536       0.626        0.43       0.446       0.164\n",
            "\n",
            "     Epoch   gpu_mem       box       obj       cls     total   targets  img_size\n",
            "      6/29     1.88G   0.04283   0.01185  0.006273   0.06095         3       416: 100% 372/372 [02:39<00:00,  2.33it/s]\n",
            "               Class      Images     Targets           P           R      mAP@.5  mAP@.5:.95: 100% 14/14 [00:05<00:00,  2.57it/s]\n",
            "                 all         431         536        0.59        0.41       0.406       0.139\n",
            "\n",
            "     Epoch   gpu_mem       box       obj       cls     total   targets  img_size\n",
            "      7/29     1.88G   0.03989   0.01124  0.005529   0.05665         2       416: 100% 372/372 [02:39<00:00,  2.33it/s]\n",
            "               Class      Images     Targets           P           R      mAP@.5  mAP@.5:.95: 100% 14/14 [00:05<00:00,  2.57it/s]\n",
            "                 all         431         536       0.474       0.422       0.356       0.107\n",
            "\n",
            "     Epoch   gpu_mem       box       obj       cls     total   targets  img_size\n",
            "      8/29     1.88G   0.03988   0.01126  0.005459    0.0566        22       416:  28% 103/372 [00:44<01:55,  2.33it/s]"
          ]
        }
      ]
    },
    {
      "cell_type": "code",
      "metadata": {
        "id": "bOy5KI2ncnWd"
      },
      "source": [
        "%load_ext tensorboard\n",
        "%tensorboard --logdir runs"
      ],
      "execution_count": null,
      "outputs": []
    },
    {
      "cell_type": "code",
      "metadata": {
        "id": "C60XAsyv6OPe"
      },
      "source": [
        " from utils.plots import plot_results \n",
        "Image(filename='/content/yolov5/runs/train/yolov5s_results/results.png', width=1000)  "
      ],
      "execution_count": null,
      "outputs": []
    },
    {
      "cell_type": "code",
      "metadata": {
        "id": "PF9MLHDb7tB6"
      },
      "source": [
        "\n",
        "print(\"GROUND TRUTH TRAINING DATA:\")\n",
        "Image(filename='/content/yolov5/runs/train/yolov5s_results/test_batch0_labels.jpg', width=900)"
      ],
      "execution_count": null,
      "outputs": []
    },
    {
      "cell_type": "code",
      "metadata": {
        "id": "W40tI99_7BcH"
      },
      "source": [
        "\n",
        "print(\"GROUND TRUTH AUGMENTED TRAINING DATA:\")\n",
        "Image(filename='/content/yolov5/runs/train/yolov5s_results/train_batch0.jpg', width=900)"
      ],
      "execution_count": null,
      "outputs": []
    },
    {
      "cell_type": "code",
      "metadata": {
        "id": "yIEwt5YLeQ7P"
      },
      "source": [
        "%ls runs/"
      ],
      "execution_count": null,
      "outputs": []
    },
    {
      "cell_type": "code",
      "metadata": {
        "id": "4SyOWS80qR32"
      },
      "source": [
        "%ls runs/train/yolov5s_results/weights"
      ],
      "execution_count": null,
      "outputs": []
    },
    {
      "cell_type": "code",
      "metadata": {
        "id": "9nmZZnWOgJ2S"
      },
      "source": [
        "%cd /content/yolov5/\n",
        "!python detect.py --weights runs/train/yolov5s_results/weights/best.pt --img 416 --conf 0.4 --source {}"
      ],
      "execution_count": null,
      "outputs": []
    },
    {
      "cell_type": "code",
      "metadata": {
        "id": "odKEqYtTgbRc"
      },
      "source": [
        "import glob\n",
        "from IPython.display import Image, display\n",
        "\n",
        "for imageName in glob.glob('/content/yolov5/runs/detect/exp/*.jpg'): \n",
        "    display(Image(filename=imageName))\n",
        "    print(\"\\n\")"
      ],
      "execution_count": null,
      "outputs": []
    },
    {
      "cell_type": "code",
      "metadata": {
        "id": "YH4CTzDRh00g"
      },
      "source": [
        "from google.colab import drive\n",
        "drive.mount('/content/gdrive')"
      ],
      "execution_count": null,
      "outputs": []
    },
    {
      "cell_type": "code",
      "metadata": {
        "id": "1x_wg3VeiXMW"
      },
      "source": [
        "%cp /content/yolov5/runs/train/yolov5s_results/weights/best.pt /content/gdrive/My\\ Drive"
      ],
      "execution_count": null,
      "outputs": []
    }
  ]
}